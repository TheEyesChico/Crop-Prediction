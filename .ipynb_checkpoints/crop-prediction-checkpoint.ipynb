{
 "cells": [
  {
   "cell_type": "markdown",
   "id": "banned-leader",
   "metadata": {
    "execution": {
     "iopub.execute_input": "2021-05-27T12:06:48.239027Z",
     "iopub.status.busy": "2021-05-27T12:06:48.238462Z",
     "iopub.status.idle": "2021-05-27T12:06:48.245744Z",
     "shell.execute_reply": "2021-05-27T12:06:48.244007Z",
     "shell.execute_reply.started": "2021-05-27T12:06:48.238895Z"
    },
    "papermill": {
     "duration": 0.03669,
     "end_time": "2021-05-27T17:35:12.649480",
     "exception": false,
     "start_time": "2021-05-27T17:35:12.612790",
     "status": "completed"
    },
    "tags": []
   },
   "source": [
    "# <center>CROP RECOMMENDATION USING CLIMATE AND SOIL CONTENT</center>\n",
    "<center><img src= \"https://media.nationalgeographic.org/assets/photos/120/983/091a0e2f-b93d-481b-9a60-db520c87ec33.jpg\" alt =\"Titanic\" style='width:500px;'></center><br>\n"
   ]
  },
  {
   "cell_type": "markdown",
   "id": "chubby-jumping",
   "metadata": {
    "execution": {
     "iopub.execute_input": "2021-05-27T17:09:06.428125Z",
     "iopub.status.busy": "2021-05-27T17:09:06.42743Z",
     "iopub.status.idle": "2021-05-27T17:09:06.436102Z",
     "shell.execute_reply": "2021-05-27T17:09:06.434709Z",
     "shell.execute_reply.started": "2021-05-27T17:09:06.428081Z"
    },
    "papermill": {
     "duration": 0.03507,
     "end_time": "2021-05-27T17:35:12.720381",
     "exception": false,
     "start_time": "2021-05-27T17:35:12.685311",
     "status": "completed"
    },
    "tags": []
   },
   "source": [
    "-  Machine Learning is well equipped when it comes to analyzing data regarding soil conditions, including moisture level, temperature, and chemical makeup, all of which have an impact upon crop growth and livestock well-being.<br><br>\n",
    "\n",
    "- Today in agriculture, this can allow crops to be grown at much higher precision, enabling farmers to treat plants and animals almost individually, which in turn significantly increases the effectiveness of farmers' decisions.<br><br>\n",
    "    \n",
    "- Using this can develop means to even predict harvest yields and evaluate crop quality for individual plant species to detect crop disease and weed infestations which were previouly impossible!"
   ]
  },
  {
   "cell_type": "code",
   "execution_count": 5,
   "id": "dutch-digit",
   "metadata": {
    "_cell_guid": "b1076dfc-b9ad-4769-8c92-a6c4dae69d19",
    "_uuid": "8f2839f25d086af736a60e9eeb907d3b93b6e0e5",
    "execution": {
     "iopub.execute_input": "2021-05-27T17:35:12.795480Z",
     "iopub.status.busy": "2021-05-27T17:35:12.794290Z",
     "iopub.status.idle": "2021-05-27T17:35:12.817487Z",
     "shell.execute_reply": "2021-05-27T17:35:12.818233Z",
     "shell.execute_reply.started": "2021-05-27T17:18:52.72529Z"
    },
    "papermill": {
     "duration": 0.062711,
     "end_time": "2021-05-27T17:35:12.818537",
     "exception": false,
     "start_time": "2021-05-27T17:35:12.755826",
     "status": "completed"
    },
    "tags": []
   },
   "outputs": [],
   "source": [
    "# This Python 3 environment comes with many helpful analytics libraries installed\n",
    "# It is defined by the kaggle/python Docker image: https://github.com/kaggle/docker-python\n",
    "# For example, here's several helpful packages to load\n",
    "\n",
    "import numpy as np # linear algebra\n",
    "import pandas as pd # data processing, CSV file I/O (e.g. pd.read_csv)\n",
    "\n",
    "# Input data files are available in the read-only \"../input/\" directory\n",
    "# For example, running this (by clicking run or pressing Shift+Enter) will list all files under the input directory\n",
    "\n",
    "import os\n",
    "for dirname, _, filenames in os.walk('/kaggle/input'):\n",
    "    for filename in filenames:\n",
    "        print(os.path.join(dirname, filename))\n",
    "\n",
    "# You can write up to 20GB to the current directory (/kaggle/working/) that gets preserved as output when you create a version using \"Save & Run All\" \n",
    "# You can also write temporary files to /kaggle/temp/, but they won't be saved outside of the current session"
   ]
  },
  {
   "cell_type": "code",
   "execution_count": 6,
   "id": "rapid-enterprise",
   "metadata": {
    "execution": {
     "iopub.execute_input": "2021-05-27T17:35:12.894293Z",
     "iopub.status.busy": "2021-05-27T17:35:12.893584Z",
     "iopub.status.idle": "2021-05-27T17:35:13.690796Z",
     "shell.execute_reply": "2021-05-27T17:35:13.690107Z",
     "shell.execute_reply.started": "2021-05-27T17:18:52.747525Z"
    },
    "papermill": {
     "duration": 0.836082,
     "end_time": "2021-05-27T17:35:13.690973",
     "exception": false,
     "start_time": "2021-05-27T17:35:12.854891",
     "status": "completed"
    },
    "tags": []
   },
   "outputs": [],
   "source": [
    "import warnings\n",
    "warnings.simplefilter(action='ignore', category=FutureWarning)\n",
    "warnings.simplefilter(action='ignore', category=UserWarning)\n",
    "import seaborn as sns\n",
    "import matplotlib.pyplot as plt\n",
    "%matplotlib inline"
   ]
  },
  {
   "cell_type": "code",
   "execution_count": 7,
   "id": "informational-detection",
   "metadata": {
    "execution": {
     "iopub.execute_input": "2021-05-27T17:35:13.769656Z",
     "iopub.status.busy": "2021-05-27T17:35:13.768941Z",
     "iopub.status.idle": "2021-05-27T17:35:13.813532Z",
     "shell.execute_reply": "2021-05-27T17:35:13.814034Z",
     "shell.execute_reply.started": "2021-05-27T17:18:53.683278Z"
    },
    "papermill": {
     "duration": 0.086339,
     "end_time": "2021-05-27T17:35:13.814219",
     "exception": false,
     "start_time": "2021-05-27T17:35:13.727880",
     "status": "completed"
    },
    "tags": []
   },
   "outputs": [
    {
     "data": {
      "text/html": [
       "<div>\n",
       "<style scoped>\n",
       "    .dataframe tbody tr th:only-of-type {\n",
       "        vertical-align: middle;\n",
       "    }\n",
       "\n",
       "    .dataframe tbody tr th {\n",
       "        vertical-align: top;\n",
       "    }\n",
       "\n",
       "    .dataframe thead th {\n",
       "        text-align: right;\n",
       "    }\n",
       "</style>\n",
       "<table border=\"1\" class=\"dataframe\">\n",
       "  <thead>\n",
       "    <tr style=\"text-align: right;\">\n",
       "      <th></th>\n",
       "      <th>N</th>\n",
       "      <th>P</th>\n",
       "      <th>K</th>\n",
       "      <th>temperature</th>\n",
       "      <th>humidity</th>\n",
       "      <th>ph</th>\n",
       "      <th>rainfall</th>\n",
       "      <th>label</th>\n",
       "    </tr>\n",
       "  </thead>\n",
       "  <tbody>\n",
       "    <tr>\n",
       "      <th>0</th>\n",
       "      <td>90</td>\n",
       "      <td>42</td>\n",
       "      <td>43</td>\n",
       "      <td>20.879744</td>\n",
       "      <td>82.002744</td>\n",
       "      <td>6.502985</td>\n",
       "      <td>202.935536</td>\n",
       "      <td>rice</td>\n",
       "    </tr>\n",
       "    <tr>\n",
       "      <th>1</th>\n",
       "      <td>85</td>\n",
       "      <td>58</td>\n",
       "      <td>41</td>\n",
       "      <td>21.770462</td>\n",
       "      <td>80.319644</td>\n",
       "      <td>7.038096</td>\n",
       "      <td>226.655537</td>\n",
       "      <td>rice</td>\n",
       "    </tr>\n",
       "    <tr>\n",
       "      <th>2</th>\n",
       "      <td>60</td>\n",
       "      <td>55</td>\n",
       "      <td>44</td>\n",
       "      <td>23.004459</td>\n",
       "      <td>82.320763</td>\n",
       "      <td>7.840207</td>\n",
       "      <td>263.964248</td>\n",
       "      <td>rice</td>\n",
       "    </tr>\n",
       "    <tr>\n",
       "      <th>3</th>\n",
       "      <td>74</td>\n",
       "      <td>35</td>\n",
       "      <td>40</td>\n",
       "      <td>26.491096</td>\n",
       "      <td>80.158363</td>\n",
       "      <td>6.980401</td>\n",
       "      <td>242.864034</td>\n",
       "      <td>rice</td>\n",
       "    </tr>\n",
       "    <tr>\n",
       "      <th>4</th>\n",
       "      <td>78</td>\n",
       "      <td>42</td>\n",
       "      <td>42</td>\n",
       "      <td>20.130175</td>\n",
       "      <td>81.604873</td>\n",
       "      <td>7.628473</td>\n",
       "      <td>262.717340</td>\n",
       "      <td>rice</td>\n",
       "    </tr>\n",
       "  </tbody>\n",
       "</table>\n",
       "</div>"
      ],
      "text/plain": [
       "    N   P   K  temperature   humidity        ph    rainfall label\n",
       "0  90  42  43    20.879744  82.002744  6.502985  202.935536  rice\n",
       "1  85  58  41    21.770462  80.319644  7.038096  226.655537  rice\n",
       "2  60  55  44    23.004459  82.320763  7.840207  263.964248  rice\n",
       "3  74  35  40    26.491096  80.158363  6.980401  242.864034  rice\n",
       "4  78  42  42    20.130175  81.604873  7.628473  262.717340  rice"
      ]
     },
     "execution_count": 7,
     "metadata": {},
     "output_type": "execute_result"
    }
   ],
   "source": [
    "df=pd.read_csv('Crop_recommendation.csv')\n",
    "df.head()"
   ]
  },
  {
   "cell_type": "code",
   "execution_count": 8,
   "id": "ordered-crown",
   "metadata": {
    "execution": {
     "iopub.execute_input": "2021-05-27T17:35:13.891112Z",
     "iopub.status.busy": "2021-05-27T17:35:13.890462Z",
     "iopub.status.idle": "2021-05-27T17:35:13.929783Z",
     "shell.execute_reply": "2021-05-27T17:35:13.929134Z",
     "shell.execute_reply.started": "2021-05-27T17:18:53.732085Z"
    },
    "papermill": {
     "duration": 0.079231,
     "end_time": "2021-05-27T17:35:13.929940",
     "exception": false,
     "start_time": "2021-05-27T17:35:13.850709",
     "status": "completed"
    },
    "tags": []
   },
   "outputs": [
    {
     "data": {
      "text/html": [
       "<div>\n",
       "<style scoped>\n",
       "    .dataframe tbody tr th:only-of-type {\n",
       "        vertical-align: middle;\n",
       "    }\n",
       "\n",
       "    .dataframe tbody tr th {\n",
       "        vertical-align: top;\n",
       "    }\n",
       "\n",
       "    .dataframe thead th {\n",
       "        text-align: right;\n",
       "    }\n",
       "</style>\n",
       "<table border=\"1\" class=\"dataframe\">\n",
       "  <thead>\n",
       "    <tr style=\"text-align: right;\">\n",
       "      <th></th>\n",
       "      <th>N</th>\n",
       "      <th>P</th>\n",
       "      <th>K</th>\n",
       "      <th>temperature</th>\n",
       "      <th>humidity</th>\n",
       "      <th>ph</th>\n",
       "      <th>rainfall</th>\n",
       "    </tr>\n",
       "  </thead>\n",
       "  <tbody>\n",
       "    <tr>\n",
       "      <th>count</th>\n",
       "      <td>2200.000000</td>\n",
       "      <td>2200.000000</td>\n",
       "      <td>2200.000000</td>\n",
       "      <td>2200.000000</td>\n",
       "      <td>2200.000000</td>\n",
       "      <td>2200.000000</td>\n",
       "      <td>2200.000000</td>\n",
       "    </tr>\n",
       "    <tr>\n",
       "      <th>mean</th>\n",
       "      <td>50.551818</td>\n",
       "      <td>53.362727</td>\n",
       "      <td>48.149091</td>\n",
       "      <td>25.616244</td>\n",
       "      <td>71.481779</td>\n",
       "      <td>6.469480</td>\n",
       "      <td>103.463655</td>\n",
       "    </tr>\n",
       "    <tr>\n",
       "      <th>std</th>\n",
       "      <td>36.917334</td>\n",
       "      <td>32.985883</td>\n",
       "      <td>50.647931</td>\n",
       "      <td>5.063749</td>\n",
       "      <td>22.263812</td>\n",
       "      <td>0.773938</td>\n",
       "      <td>54.958389</td>\n",
       "    </tr>\n",
       "    <tr>\n",
       "      <th>min</th>\n",
       "      <td>0.000000</td>\n",
       "      <td>5.000000</td>\n",
       "      <td>5.000000</td>\n",
       "      <td>8.825675</td>\n",
       "      <td>14.258040</td>\n",
       "      <td>3.504752</td>\n",
       "      <td>20.211267</td>\n",
       "    </tr>\n",
       "    <tr>\n",
       "      <th>25%</th>\n",
       "      <td>21.000000</td>\n",
       "      <td>28.000000</td>\n",
       "      <td>20.000000</td>\n",
       "      <td>22.769375</td>\n",
       "      <td>60.261953</td>\n",
       "      <td>5.971693</td>\n",
       "      <td>64.551686</td>\n",
       "    </tr>\n",
       "    <tr>\n",
       "      <th>50%</th>\n",
       "      <td>37.000000</td>\n",
       "      <td>51.000000</td>\n",
       "      <td>32.000000</td>\n",
       "      <td>25.598693</td>\n",
       "      <td>80.473146</td>\n",
       "      <td>6.425045</td>\n",
       "      <td>94.867624</td>\n",
       "    </tr>\n",
       "    <tr>\n",
       "      <th>75%</th>\n",
       "      <td>84.250000</td>\n",
       "      <td>68.000000</td>\n",
       "      <td>49.000000</td>\n",
       "      <td>28.561654</td>\n",
       "      <td>89.948771</td>\n",
       "      <td>6.923643</td>\n",
       "      <td>124.267508</td>\n",
       "    </tr>\n",
       "    <tr>\n",
       "      <th>max</th>\n",
       "      <td>140.000000</td>\n",
       "      <td>145.000000</td>\n",
       "      <td>205.000000</td>\n",
       "      <td>43.675493</td>\n",
       "      <td>99.981876</td>\n",
       "      <td>9.935091</td>\n",
       "      <td>298.560117</td>\n",
       "    </tr>\n",
       "  </tbody>\n",
       "</table>\n",
       "</div>"
      ],
      "text/plain": [
       "                 N            P            K  temperature     humidity  \\\n",
       "count  2200.000000  2200.000000  2200.000000  2200.000000  2200.000000   \n",
       "mean     50.551818    53.362727    48.149091    25.616244    71.481779   \n",
       "std      36.917334    32.985883    50.647931     5.063749    22.263812   \n",
       "min       0.000000     5.000000     5.000000     8.825675    14.258040   \n",
       "25%      21.000000    28.000000    20.000000    22.769375    60.261953   \n",
       "50%      37.000000    51.000000    32.000000    25.598693    80.473146   \n",
       "75%      84.250000    68.000000    49.000000    28.561654    89.948771   \n",
       "max     140.000000   145.000000   205.000000    43.675493    99.981876   \n",
       "\n",
       "                ph     rainfall  \n",
       "count  2200.000000  2200.000000  \n",
       "mean      6.469480   103.463655  \n",
       "std       0.773938    54.958389  \n",
       "min       3.504752    20.211267  \n",
       "25%       5.971693    64.551686  \n",
       "50%       6.425045    94.867624  \n",
       "75%       6.923643   124.267508  \n",
       "max       9.935091   298.560117  "
      ]
     },
     "execution_count": 8,
     "metadata": {},
     "output_type": "execute_result"
    }
   ],
   "source": [
    "df.describe()"
   ]
  },
  {
   "cell_type": "markdown",
   "id": "constant-emphasis",
   "metadata": {
    "papermill": {
     "duration": 0.036906,
     "end_time": "2021-05-27T17:35:14.003534",
     "exception": false,
     "start_time": "2021-05-27T17:35:13.966628",
     "status": "completed"
    },
    "tags": []
   },
   "source": [
    "## Exploratory Data Analysis\n",
    "\n",
    "#### Heatmap to check null/missing values"
   ]
  },
  {
   "cell_type": "code",
   "execution_count": 9,
   "id": "attached-beverage",
   "metadata": {
    "execution": {
     "iopub.execute_input": "2021-05-27T17:35:14.085413Z",
     "iopub.status.busy": "2021-05-27T17:35:14.084698Z",
     "iopub.status.idle": "2021-05-27T17:35:14.536990Z",
     "shell.execute_reply": "2021-05-27T17:35:14.536482Z",
     "shell.execute_reply.started": "2021-05-27T17:18:53.778125Z"
    },
    "papermill": {
     "duration": 0.495983,
     "end_time": "2021-05-27T17:35:14.537139",
     "exception": false,
     "start_time": "2021-05-27T17:35:14.041156",
     "status": "completed"
    },
    "tags": []
   },
   "outputs": [
    {
     "data": {
      "image/png": "[encoded data removed]",
      "text/plain": [
       "<Figure size 432x288 with 2 Axes>"
      ]
     },
     "metadata": {
      "needs_background": "light"
     },
     "output_type": "display_data"
    }
   ],
   "source": [
    "sns.heatmap(df.isnull(),cmap=\"coolwarm\")\n",
    "plt.show()"
   ]
  },
  {
   "cell_type": "markdown",
   "id": "annual-vessel",
   "metadata": {
    "papermill": {
     "duration": 0.037504,
     "end_time": "2021-05-27T17:35:14.612554",
     "exception": false,
     "start_time": "2021-05-27T17:35:14.575050",
     "status": "completed"
    },
    "tags": []
   },
   "source": [
    "<h4> <u>Let's have a closer look at the distribution of temperature and ph.</u><br><br>\n",
    "    \n",
    "It is symmetrical and bell shaped, showing that trials will usually give a result near the average, but will occasionally deviate by large amounts. It's also fascinating how these two really resemble each other!</h4>"
   ]
  },
  {
   "cell_type": "code",
   "execution_count": 10,
   "id": "irish-minimum",
   "metadata": {
    "execution": {
     "iopub.execute_input": "2021-05-27T17:35:14.717423Z",
     "iopub.status.busy": "2021-05-27T17:35:14.716728Z",
     "iopub.status.idle": "2021-05-27T17:35:15.078692Z",
     "shell.execute_reply": "2021-05-27T17:35:15.078189Z",
     "shell.execute_reply.started": "2021-05-27T17:18:54.230226Z"
    },
    "papermill": {
     "duration": 0.428398,
     "end_time": "2021-05-27T17:35:15.078834",
     "exception": false,
     "start_time": "2021-05-27T17:35:14.650436",
     "status": "completed"
    },
    "tags": []
   },
   "outputs": [
    {
     "data": {
      "text/plain": [
       "<AxesSubplot:xlabel='ph', ylabel='Density'>"
      ]
     },
     "execution_count": 10,
     "metadata": {},
     "output_type": "execute_result"
    },
    {
     "data": {
      "image/png": "[encoded data removed]",
      "text/plain": [
       "<Figure size 864x360 with 2 Axes>"
      ]
     },
     "metadata": {
      "needs_background": "light"
     },
     "output_type": "display_data"
    }
   ],
   "source": [
    "plt.figure(figsize=(12,5))\n",
    "plt.subplot(1, 2, 1)\n",
    "# sns.distplot(df_setosa['sepal_length'],kde=True,color='green',bins=20,hist_kws={'alpha':0.3})\n",
    "sns.distplot(df['temperature'],color=\"purple\",bins=15,hist_kws={'alpha':0.2})\n",
    "plt.subplot(1, 2, 2)\n",
    "sns.distplot(df['ph'],color=\"green\",bins=15,hist_kws={'alpha':0.2})"
   ]
  },
  {
   "cell_type": "markdown",
   "id": "recent-trauma",
   "metadata": {
    "papermill": {
     "duration": 0.039258,
     "end_time": "2021-05-27T17:35:15.159454",
     "exception": false,
     "start_time": "2021-05-27T17:35:15.120196",
     "status": "completed"
    },
    "tags": []
   },
   "source": [
    "<h4> A quick check if the dataset is balanced or not. If found imbalanced, we would have to downsample some targets which are more in quantity but so far everything looks good! <h4>"
   ]
  },
  {
   "cell_type": "code",
   "execution_count": 11,
   "id": "historic-valentine",
   "metadata": {
    "execution": {
     "iopub.execute_input": "2021-05-27T17:35:15.255609Z",
     "iopub.status.busy": "2021-05-27T17:35:15.248827Z",
     "iopub.status.idle": "2021-05-27T17:35:15.521352Z",
     "shell.execute_reply": "2021-05-27T17:35:15.520776Z",
     "shell.execute_reply.started": "2021-05-27T17:18:54.659934Z"
    },
    "papermill": {
     "duration": 0.322416,
     "end_time": "2021-05-27T17:35:15.521494",
     "exception": false,
     "start_time": "2021-05-27T17:35:15.199078",
     "status": "completed"
    },
    "tags": []
   },
   "outputs": [
    {
     "data": {
      "text/plain": [
       "<AxesSubplot:xlabel='count', ylabel='label'>"
      ]
     },
     "execution_count": 11,
     "metadata": {},
     "output_type": "execute_result"
    },
    {
     "data": {
      "image/png": "[encoded data removed]",
      "text/plain": [
       "<Figure size 432x288 with 1 Axes>"
      ]
     },
     "metadata": {
      "needs_background": "light"
     },
     "output_type": "display_data"
    }
   ],
   "source": [
    "sns.countplot(y='label',data=df, palette=\"plasma_r\")"
   ]
  },
  {
   "cell_type": "markdown",
   "id": "ranking-import",
   "metadata": {
    "execution": {
     "iopub.execute_input": "2021-05-26T16:06:33.590382Z",
     "iopub.status.busy": "2021-05-26T16:06:33.590018Z",
     "iopub.status.idle": "2021-05-26T16:06:33.596192Z",
     "shell.execute_reply": "2021-05-26T16:06:33.594924Z",
     "shell.execute_reply.started": "2021-05-26T16:06:33.590352Z"
    },
    "papermill": {
     "duration": 0.039891,
     "end_time": "2021-05-27T17:35:15.601942",
     "exception": false,
     "start_time": "2021-05-27T17:35:15.562051",
     "status": "completed"
    },
    "tags": []
   },
   "source": [
    "<h4> A very important plot to visualize the diagonal distribution between two features for all the combinations! It is great to visualize how classes differ from each other in a particular space."
   ]
  },
  {
   "cell_type": "code",
   "execution_count": null,
   "id": "median-irrigation",
   "metadata": {
    "execution": {
     "iopub.execute_input": "2021-05-27T17:35:15.705528Z",
     "iopub.status.busy": "2021-05-27T17:35:15.688260Z",
     "iopub.status.idle": "2021-05-27T17:35:53.252616Z",
     "shell.execute_reply": "2021-05-27T17:35:53.253170Z",
     "shell.execute_reply.started": "2021-05-27T17:18:54.961864Z"
    },
    "papermill": {
     "duration": 37.611304,
     "end_time": "2021-05-27T17:35:53.253356",
     "exception": false,
     "start_time": "2021-05-27T17:35:15.642052",
     "status": "completed"
    },
    "tags": []
   },
   "outputs": [],
   "source": [
    "sns.pairplot(df, hue = 'label')"
   ]
  },
  {
   "cell_type": "markdown",
   "id": "partial-google",
   "metadata": {
    "papermill": {
     "duration": 0.072475,
     "end_time": "2021-05-27T17:35:53.398876",
     "exception": false,
     "start_time": "2021-05-27T17:35:53.326401",
     "status": "completed"
    },
    "tags": []
   },
   "source": [
    "#### During rainy season, average rainfall is high (average 120 mm) and temperature is mildly chill (less than 30'C).\n",
    "\n",
    "#### Rain affects soil moisture which affects ph of the soil. Here are the crops which are likely to be planted during this season. \n",
    "\n",
    "- <b> Rice needs heavy rainfall (>200 mm) and a humidity above 80%. No wonder major rice production in India comes from East Coasts which has average of 220 mm rainfall every year!\n",
    "- <b> Coconut is a tropical crop and needs high humidity therefore explaining massive exports from coastal areas around the country."
   ]
  },
  {
   "cell_type": "code",
   "execution_count": null,
   "id": "impossible-candy",
   "metadata": {
    "execution": {
     "iopub.execute_input": "2021-05-27T17:35:53.573182Z",
     "iopub.status.busy": "2021-05-27T17:35:53.572133Z",
     "iopub.status.idle": "2021-05-27T17:35:54.502222Z",
     "shell.execute_reply": "2021-05-27T17:35:54.501639Z",
     "shell.execute_reply.started": "2021-05-27T17:19:36.582995Z"
    },
    "papermill": {
     "duration": 1.031224,
     "end_time": "2021-05-27T17:35:54.502375",
     "exception": false,
     "start_time": "2021-05-27T17:35:53.471151",
     "status": "completed"
    },
    "tags": []
   },
   "outputs": [],
   "source": [
    "sns.jointplot(x=\"rainfall\",y=\"humidity\",data=df[(df['temperature']<30) & (df['rainfall']>120)],hue=\"label\")"
   ]
  },
  {
   "cell_type": "markdown",
   "id": "august-patent",
   "metadata": {
    "papermill": {
     "duration": 0.074677,
     "end_time": "2021-05-27T17:35:54.652046",
     "exception": false,
     "start_time": "2021-05-27T17:35:54.577369",
     "status": "completed"
    },
    "tags": []
   },
   "source": [
    "#### This graph correlates with average potassium (K) and average nitrogen (N) value (both>50). \n",
    "#### These soil ingredients direcly affects nutrition value of the food. Fruits which have high nutrients typically has consistent potassium values."
   ]
  },
  {
   "cell_type": "code",
   "execution_count": null,
   "id": "stainless-australia",
   "metadata": {
    "execution": {
     "iopub.execute_input": "2021-05-27T17:35:54.817562Z",
     "iopub.status.busy": "2021-05-27T17:35:54.808185Z",
     "iopub.status.idle": "2021-05-27T17:35:55.523741Z",
     "shell.execute_reply": "2021-05-27T17:35:55.524241Z",
     "shell.execute_reply.started": "2021-05-27T17:19:37.594996Z"
    },
    "papermill": {
     "duration": 0.797203,
     "end_time": "2021-05-27T17:35:55.524407",
     "exception": false,
     "start_time": "2021-05-27T17:35:54.727204",
     "status": "completed"
    },
    "tags": []
   },
   "outputs": [],
   "source": [
    "sns.jointplot(x=\"K\",y=\"N\",data=df[(df['N']>40)&(df['K']>40)],hue=\"label\")"
   ]
  },
  {
   "cell_type": "markdown",
   "id": "operational-orlando",
   "metadata": {
    "papermill": {
     "duration": 0.077197,
     "end_time": "2021-05-27T17:35:55.679690",
     "exception": false,
     "start_time": "2021-05-27T17:35:55.602493",
     "status": "completed"
    },
    "tags": []
   },
   "source": [
    "<h4>Let's try to plot a specfic case of pairplot between `humidity` and `K` (potassium levels in the soil.)</h4>\n",
    "\n",
    "#### `sns.jointplot()` can be used for bivariate analysis to plot between humidity and K levels based on Label type. It further generates frequency distribution of classes with respect to features"
   ]
  },
  {
   "cell_type": "code",
   "execution_count": null,
   "id": "official-juice",
   "metadata": {
    "execution": {
     "iopub.execute_input": "2021-05-27T17:35:55.860296Z",
     "iopub.status.busy": "2021-05-27T17:35:55.859287Z",
     "iopub.status.idle": "2021-05-27T17:35:57.273349Z",
     "shell.execute_reply": "2021-05-27T17:35:57.273859Z",
     "shell.execute_reply.started": "2021-05-27T17:19:38.367992Z"
    },
    "papermill": {
     "duration": 1.517073,
     "end_time": "2021-05-27T17:35:57.274053",
     "exception": false,
     "start_time": "2021-05-27T17:35:55.756980",
     "status": "completed"
    },
    "tags": []
   },
   "outputs": [],
   "source": [
    "sns.jointplot(x=\"K\",y=\"humidity\",data=df,hue='label',size=8,s=30,alpha=0.7)"
   ]
  },
  {
   "cell_type": "markdown",
   "id": "bibliographic-aluminum",
   "metadata": {
    "papermill": {
     "duration": 0.078651,
     "end_time": "2021-05-27T17:35:57.432739",
     "exception": false,
     "start_time": "2021-05-27T17:35:57.354088",
     "status": "completed"
    },
    "tags": []
   },
   "source": [
    "#### We can see ph values are critical when it comes to soil. A stability between 6 and 7 is preffered"
   ]
  },
  {
   "cell_type": "code",
   "execution_count": null,
   "id": "velvet-intention",
   "metadata": {
    "execution": {
     "iopub.execute_input": "2021-05-27T17:35:57.597535Z",
     "iopub.status.busy": "2021-05-27T17:35:57.596852Z",
     "iopub.status.idle": "2021-05-27T17:35:58.124181Z",
     "shell.execute_reply": "2021-05-27T17:35:58.123591Z",
     "shell.execute_reply.started": "2021-05-27T17:19:39.899118Z"
    },
    "papermill": {
     "duration": 0.612723,
     "end_time": "2021-05-27T17:35:58.124338",
     "exception": false,
     "start_time": "2021-05-27T17:35:57.511615",
     "status": "completed"
    },
    "tags": []
   },
   "outputs": [],
   "source": [
    "sns.boxplot(y='label',x='ph',data=df)"
   ]
  },
  {
   "cell_type": "markdown",
   "id": "elder-franklin",
   "metadata": {
    "papermill": {
     "duration": 0.088178,
     "end_time": "2021-05-27T17:35:58.293184",
     "exception": false,
     "start_time": "2021-05-27T17:35:58.205006",
     "status": "completed"
    },
    "tags": []
   },
   "source": [
    "#### Another interesting analysis where Phosphorous levels are quite differentiable when it rains heavily (above 150 mm)."
   ]
  },
  {
   "cell_type": "code",
   "execution_count": null,
   "id": "conscious-oxford",
   "metadata": {
    "execution": {
     "iopub.execute_input": "2021-05-27T17:35:58.489141Z",
     "iopub.status.busy": "2021-05-27T17:35:58.488427Z",
     "iopub.status.idle": "2021-05-27T17:35:58.702713Z",
     "shell.execute_reply": "2021-05-27T17:35:58.702059Z",
     "shell.execute_reply.started": "2021-05-27T17:19:40.46782Z"
    },
    "papermill": {
     "duration": 0.314456,
     "end_time": "2021-05-27T17:35:58.702852",
     "exception": false,
     "start_time": "2021-05-27T17:35:58.388396",
     "status": "completed"
    },
    "tags": []
   },
   "outputs": [],
   "source": [
    "sns.boxplot(y='label',x='P',data=df[df['rainfall']>150])"
   ]
  },
  {
   "cell_type": "markdown",
   "id": "choice-cooler",
   "metadata": {
    "execution": {
     "iopub.execute_input": "2021-05-27T04:09:14.720949Z",
     "iopub.status.busy": "2021-05-27T04:09:14.720513Z",
     "iopub.status.idle": "2021-05-27T04:09:14.72936Z",
     "shell.execute_reply": "2021-05-27T04:09:14.727764Z",
     "shell.execute_reply.started": "2021-05-27T04:09:14.720912Z"
    },
    "papermill": {
     "duration": 0.082624,
     "end_time": "2021-05-27T17:35:58.867857",
     "exception": false,
     "start_time": "2021-05-27T17:35:58.785233",
     "status": "completed"
    },
    "tags": []
   },
   "source": [
    "#### Further analyzing phosphorous levels.\n",
    "\n",
    "When humidity is less than 65, almost same phosphor levels(approx 14 to 25) are required for 6 crops which could be grown just based on the amount of rain expected over the next few weeks."
   ]
  },
  {
   "cell_type": "code",
   "execution_count": null,
   "id": "domestic-korean",
   "metadata": {
    "execution": {
     "iopub.execute_input": "2021-05-27T17:35:59.036755Z",
     "iopub.status.busy": "2021-05-27T17:35:59.036113Z",
     "iopub.status.idle": "2021-05-27T17:36:02.249187Z",
     "shell.execute_reply": "2021-05-27T17:36:02.247951Z",
     "shell.execute_reply.started": "2021-05-27T17:19:40.719561Z"
    },
    "papermill": {
     "duration": 3.298242,
     "end_time": "2021-05-27T17:36:02.249352",
     "exception": false,
     "start_time": "2021-05-27T17:35:58.951110",
     "status": "completed"
    },
    "tags": []
   },
   "outputs": [],
   "source": [
    "sns.lineplot(data = df[(df['humidity']<65)], x = \"K\", y = \"rainfall\",hue=\"label\")"
   ]
  },
  {
   "cell_type": "markdown",
   "id": "functioning-camping",
   "metadata": {
    "papermill": {
     "duration": 0.083273,
     "end_time": "2021-05-27T17:36:02.421044",
     "exception": false,
     "start_time": "2021-05-27T17:36:02.337771",
     "status": "completed"
    },
    "tags": []
   },
   "source": [
    "## DATA PRE-PROCESSING\n",
    "\n",
    "**Let's make the data ready for machine learning model** "
   ]
  },
  {
   "cell_type": "code",
   "execution_count": null,
   "id": "diagnostic-constitutional",
   "metadata": {
    "execution": {
     "iopub.execute_input": "2021-05-27T17:36:02.599905Z",
     "iopub.status.busy": "2021-05-27T17:36:02.598880Z",
     "iopub.status.idle": "2021-05-27T17:36:02.602548Z",
     "shell.execute_reply": "2021-05-27T17:36:02.602032Z",
     "shell.execute_reply.started": "2021-05-27T17:19:44.262645Z"
    },
    "papermill": {
     "duration": 0.097087,
     "end_time": "2021-05-27T17:36:02.602704",
     "exception": false,
     "start_time": "2021-05-27T17:36:02.505617",
     "status": "completed"
    },
    "tags": []
   },
   "outputs": [],
   "source": [
    "c=df.label.astype('category')\n",
    "targets = dict(enumerate(c.cat.categories))\n",
    "df['target']=c.cat.codes\n",
    "\n",
    "y=df.target\n",
    "X=df[['N','P','K','temperature','humidity','ph','rainfall']]"
   ]
  },
  {
   "cell_type": "markdown",
   "id": "catholic-leone",
   "metadata": {
    "papermill": {
     "duration": 0.083563,
     "end_time": "2021-05-27T17:36:02.771276",
     "exception": false,
     "start_time": "2021-05-27T17:36:02.687713",
     "status": "completed"
    },
    "tags": []
   },
   "source": [
    "**Correlation visualization between features. We can see how Phosphorous levels and Potassium levels are highly correlated.**"
   ]
  },
  {
   "cell_type": "code",
   "execution_count": null,
   "id": "superior-switzerland",
   "metadata": {
    "execution": {
     "iopub.execute_input": "2021-05-27T17:36:02.945675Z",
     "iopub.status.busy": "2021-05-27T17:36:02.944679Z",
     "iopub.status.idle": "2021-05-27T17:36:03.194169Z",
     "shell.execute_reply": "2021-05-27T17:36:03.194681Z",
     "shell.execute_reply.started": "2021-05-27T17:19:44.274437Z"
    },
    "papermill": {
     "duration": 0.339587,
     "end_time": "2021-05-27T17:36:03.194854",
     "exception": false,
     "start_time": "2021-05-27T17:36:02.855267",
     "status": "completed"
    },
    "tags": []
   },
   "outputs": [],
   "source": [
    "sns.heatmap(X.corr())"
   ]
  },
  {
   "cell_type": "markdown",
   "id": "neural-logic",
   "metadata": {
    "papermill": {
     "duration": 0.0844,
     "end_time": "2021-05-27T17:36:03.364876",
     "exception": false,
     "start_time": "2021-05-27T17:36:03.280476",
     "status": "completed"
    },
    "tags": []
   },
   "source": [
    "## FEATURE SCALING\n",
    "**Feature scaling is required before creating training data and feeding it to the model.**\n",
    "\n",
    "As we saw earlier, two of our features (temperature and ph) are gaussian distributed, therefore scaling them between 0 and 1 with MinMaxScaler."
   ]
  },
  {
   "cell_type": "code",
   "execution_count": null,
   "id": "processed-residence",
   "metadata": {
    "execution": {
     "iopub.execute_input": "2021-05-27T17:36:03.554463Z",
     "iopub.status.busy": "2021-05-27T17:36:03.553587Z",
     "iopub.status.idle": "2021-05-27T17:36:03.763329Z",
     "shell.execute_reply": "2021-05-27T17:36:03.763801Z",
     "shell.execute_reply.started": "2021-05-27T17:19:44.630901Z"
    },
    "papermill": {
     "duration": 0.302355,
     "end_time": "2021-05-27T17:36:03.764006",
     "exception": false,
     "start_time": "2021-05-27T17:36:03.461651",
     "status": "completed"
    },
    "tags": []
   },
   "outputs": [],
   "source": [
    "from sklearn.model_selection import train_test_split\n",
    "from sklearn.preprocessing import MinMaxScaler\n",
    "\n",
    "X_train, X_test, y_train, y_test = train_test_split(X, y,random_state=1)\n",
    "\n",
    "scaler = MinMaxScaler()\n",
    "X_train_scaled = scaler.fit_transform(X_train)\n",
    "\n",
    "# we must apply the scaling to the test set as well that we are computing for the training set\n",
    "X_test_scaled = scaler.transform(X_test)"
   ]
  },
  {
   "cell_type": "markdown",
   "id": "utility-rapid",
   "metadata": {
    "papermill": {
     "duration": 0.085533,
     "end_time": "2021-05-27T17:36:03.935711",
     "exception": false,
     "start_time": "2021-05-27T17:36:03.850178",
     "status": "completed"
    },
    "tags": []
   },
   "source": [
    "## MODEL SELECTION\n",
    "\n",
    "### KNN Classifier for Crop prediction."
   ]
  },
  {
   "cell_type": "code",
   "execution_count": null,
   "id": "animal-temperature",
   "metadata": {
    "execution": {
     "iopub.execute_input": "2021-05-27T17:36:04.112094Z",
     "iopub.status.busy": "2021-05-27T17:36:04.111044Z",
     "iopub.status.idle": "2021-05-27T17:36:04.313428Z",
     "shell.execute_reply": "2021-05-27T17:36:04.312911Z",
     "shell.execute_reply.started": "2021-05-27T17:19:44.858654Z"
    },
    "papermill": {
     "duration": 0.292074,
     "end_time": "2021-05-27T17:36:04.313570",
     "exception": false,
     "start_time": "2021-05-27T17:36:04.021496",
     "status": "completed"
    },
    "tags": []
   },
   "outputs": [],
   "source": [
    "from sklearn.neighbors import KNeighborsClassifier\n",
    "knn = KNeighborsClassifier()\n",
    "knn.fit(X_train_scaled, y_train)\n",
    "knn.score(X_test_scaled, y_test)"
   ]
  },
  {
   "cell_type": "markdown",
   "id": "modified-hunter",
   "metadata": {
    "papermill": {
     "duration": 0.086146,
     "end_time": "2021-05-27T17:36:04.485342",
     "exception": false,
     "start_time": "2021-05-27T17:36:04.399196",
     "status": "completed"
    },
    "tags": []
   },
   "source": [
    "#### Confusion Matrix"
   ]
  },
  {
   "cell_type": "code",
   "execution_count": null,
   "id": "defensive-creator",
   "metadata": {
    "execution": {
     "iopub.execute_input": "2021-05-27T17:36:04.666144Z",
     "iopub.status.busy": "2021-05-27T17:36:04.665202Z",
     "iopub.status.idle": "2021-05-27T17:36:06.696687Z",
     "shell.execute_reply": "2021-05-27T17:36:06.697167Z",
     "shell.execute_reply.started": "2021-05-27T17:19:45.071161Z"
    },
    "papermill": {
     "duration": 2.12535,
     "end_time": "2021-05-27T17:36:06.697352",
     "exception": false,
     "start_time": "2021-05-27T17:36:04.572002",
     "status": "completed"
    },
    "tags": []
   },
   "outputs": [],
   "source": [
    "from sklearn.metrics import confusion_matrix\n",
    "mat=confusion_matrix(y_test,knn.predict(X_test_scaled))\n",
    "df_cm = pd.DataFrame(mat, list(targets.values()), list(targets.values()))\n",
    "sns.set(font_scale=1.0) # for label size\n",
    "plt.figure(figsize = (12,8))\n",
    "sns.heatmap(df_cm, annot=True, annot_kws={\"size\": 12},cmap=\"terrain\")"
   ]
  },
  {
   "cell_type": "markdown",
   "id": "involved-visit",
   "metadata": {
    "papermill": {
     "duration": 0.08771,
     "end_time": "2021-05-27T17:36:06.874134",
     "exception": false,
     "start_time": "2021-05-27T17:36:06.786424",
     "status": "completed"
    },
    "tags": []
   },
   "source": [
    "#### Let's try different values of n_neighbors to fine tune and get better results"
   ]
  },
  {
   "cell_type": "code",
   "execution_count": null,
   "id": "hourly-description",
   "metadata": {
    "execution": {
     "iopub.execute_input": "2021-05-27T17:36:07.058790Z",
     "iopub.status.busy": "2021-05-27T17:36:07.057789Z",
     "iopub.status.idle": "2021-05-27T17:36:07.530064Z",
     "shell.execute_reply": "2021-05-27T17:36:07.530562Z",
     "shell.execute_reply.started": "2021-05-27T17:19:47.383233Z"
    },
    "papermill": {
     "duration": 0.568434,
     "end_time": "2021-05-27T17:36:07.530751",
     "exception": false,
     "start_time": "2021-05-27T17:36:06.962317",
     "status": "completed"
    },
    "tags": []
   },
   "outputs": [],
   "source": [
    "k_range = range(1,11)\n",
    "scores = []\n",
    "\n",
    "for k in k_range:\n",
    "    knn = KNeighborsClassifier(n_neighbors = k)\n",
    "    knn.fit(X_train_scaled, y_train)\n",
    "    scores.append(knn.score(X_test_scaled, y_test))\n",
    "\n",
    "plt.xlabel('k')\n",
    "plt.ylabel('accuracy')\n",
    "plt.scatter(k_range, scores)\n",
    "plt.vlines(k_range,0, scores, linestyle=\"dashed\")\n",
    "plt.ylim(0.96,0.99)\n",
    "plt.xticks([i for i in range(1,11)]);"
   ]
  },
  {
   "cell_type": "markdown",
   "id": "eligible-machine",
   "metadata": {
    "papermill": {
     "duration": 0.087943,
     "end_time": "2021-05-27T17:36:07.708641",
     "exception": false,
     "start_time": "2021-05-27T17:36:07.620698",
     "status": "completed"
    },
    "tags": []
   },
   "source": [
    "### Classification using Support Vector Classifer (SVC)"
   ]
  },
  {
   "cell_type": "code",
   "execution_count": null,
   "id": "opened-version",
   "metadata": {
    "execution": {
     "iopub.execute_input": "2021-05-27T17:36:07.890134Z",
     "iopub.status.busy": "2021-05-27T17:36:07.889177Z",
     "iopub.status.idle": "2021-05-27T17:36:08.085689Z",
     "shell.execute_reply": "2021-05-27T17:36:08.086693Z",
     "shell.execute_reply.started": "2021-05-27T17:19:47.918018Z"
    },
    "papermill": {
     "duration": 0.289611,
     "end_time": "2021-05-27T17:36:08.087032",
     "exception": false,
     "start_time": "2021-05-27T17:36:07.797421",
     "status": "completed"
    },
    "tags": []
   },
   "outputs": [],
   "source": [
    "from sklearn.svm import SVC\n",
    "\n",
    "svc_linear = SVC(kernel = 'linear').fit(X_train_scaled, y_train)\n",
    "print(\"Linear Kernel Accuracy: \",svc_linear.score(X_test_scaled,y_test))\n",
    "\n",
    "svc_poly = SVC(kernel = 'rbf').fit(X_train_scaled, y_train)\n",
    "print(\"Rbf Kernel Accuracy: \", svc_poly.score(X_test_scaled,y_test))\n",
    "\n",
    "svc_poly = SVC(kernel = 'poly').fit(X_train_scaled, y_train)\n",
    "print(\"Poly Kernel Accuracy: \", svc_poly.score(X_test_scaled,y_test))"
   ]
  },
  {
   "cell_type": "markdown",
   "id": "domestic-plastic",
   "metadata": {
    "papermill": {
     "duration": 0.089419,
     "end_time": "2021-05-27T17:36:08.267458",
     "exception": false,
     "start_time": "2021-05-27T17:36:08.178039",
     "status": "completed"
    },
    "tags": []
   },
   "source": [
    "#### Let's try to increase SVC Linear model accuracy by parameter tuning.\n",
    "\n",
    "**GridSearchCV can help us find the best parameters.**"
   ]
  },
  {
   "cell_type": "code",
   "execution_count": null,
   "id": "infinite-dispatch",
   "metadata": {
    "execution": {
     "iopub.execute_input": "2021-05-27T17:36:08.455022Z",
     "iopub.status.busy": "2021-05-27T17:36:08.454273Z",
     "iopub.status.idle": "2021-05-27T17:36:14.576779Z",
     "shell.execute_reply": "2021-05-27T17:36:14.576115Z",
     "shell.execute_reply.started": "2021-05-27T17:19:48.114632Z"
    },
    "papermill": {
     "duration": 6.220275,
     "end_time": "2021-05-27T17:36:14.576960",
     "exception": false,
     "start_time": "2021-05-27T17:36:08.356685",
     "status": "completed"
    },
    "tags": []
   },
   "outputs": [],
   "source": [
    "from sklearn.metrics import accuracy_score\n",
    "from sklearn.model_selection import GridSearchCV\n",
    "\n",
    "parameters = {'C': np.logspace(-3, 2, 6).tolist(), 'gamma': np.logspace(-3, 2, 6).tolist()}\n",
    "# 'degree': np.arange(0,5,1).tolist(), 'kernel':['linear','rbf','poly']\n",
    "\n",
    "model = GridSearchCV(estimator = SVC(kernel=\"linear\"), param_grid=parameters, n_jobs=-1, cv=4)\n",
    "model.fit(X_train, y_train)"
   ]
  },
  {
   "cell_type": "code",
   "execution_count": null,
   "id": "creative-challenge",
   "metadata": {
    "execution": {
     "iopub.execute_input": "2021-05-27T17:36:14.763890Z",
     "iopub.status.busy": "2021-05-27T17:36:14.763235Z",
     "iopub.status.idle": "2021-05-27T17:36:14.768290Z",
     "shell.execute_reply": "2021-05-27T17:36:14.767433Z",
     "shell.execute_reply.started": "2021-05-27T17:19:54.313344Z"
    },
    "papermill": {
     "duration": 0.100423,
     "end_time": "2021-05-27T17:36:14.768491",
     "exception": false,
     "start_time": "2021-05-27T17:36:14.668068",
     "status": "completed"
    },
    "tags": []
   },
   "outputs": [],
   "source": [
    "print(model.best_score_ )\n",
    "print(model.best_params_ )"
   ]
  },
  {
   "cell_type": "markdown",
   "id": "copyrighted-feeding",
   "metadata": {
    "papermill": {
     "duration": 0.089846,
     "end_time": "2021-05-27T17:36:14.949008",
     "exception": false,
     "start_time": "2021-05-27T17:36:14.859162",
     "status": "completed"
    },
    "tags": []
   },
   "source": [
    "**POINTS TO BE HIGHLIGHTED**\n",
    "1. *Interestingly liner kernel also gives satisfactory results but fine tuning increases the computation and might be inefficient in some cases*\n",
    "2. *The accuracy can be increased in poly kernel by tweaking parameters but might lead to intensive overfitting.*\n",
    "3. *RBF has better result than linear kernel.*\n",
    "4. *Poly kernel so far wins by a small margin.*"
   ]
  },
  {
   "cell_type": "markdown",
   "id": "gentle-longer",
   "metadata": {
    "papermill": {
     "duration": 0.089475,
     "end_time": "2021-05-27T17:36:15.128948",
     "exception": false,
     "start_time": "2021-05-27T17:36:15.039473",
     "status": "completed"
    },
    "tags": []
   },
   "source": [
    "### Classifying using decision tree"
   ]
  },
  {
   "cell_type": "code",
   "execution_count": null,
   "id": "nominated-archive",
   "metadata": {
    "execution": {
     "iopub.execute_input": "2021-05-27T17:36:15.314241Z",
     "iopub.status.busy": "2021-05-27T17:36:15.313430Z",
     "iopub.status.idle": "2021-05-27T17:36:15.369146Z",
     "shell.execute_reply": "2021-05-27T17:36:15.369674Z",
     "shell.execute_reply.started": "2021-05-27T17:19:54.321552Z"
    },
    "papermill": {
     "duration": 0.150845,
     "end_time": "2021-05-27T17:36:15.369847",
     "exception": false,
     "start_time": "2021-05-27T17:36:15.219002",
     "status": "completed"
    },
    "tags": []
   },
   "outputs": [],
   "source": [
    "from sklearn.tree import DecisionTreeClassifier\n",
    "\n",
    "clf = DecisionTreeClassifier(random_state=42).fit(X_train, y_train)\n",
    "clf.score(X_test,y_test)"
   ]
  },
  {
   "cell_type": "markdown",
   "id": "military-worse",
   "metadata": {
    "papermill": {
     "duration": 0.090206,
     "end_time": "2021-05-27T17:36:15.550238",
     "exception": false,
     "start_time": "2021-05-27T17:36:15.460032",
     "status": "completed"
    },
    "tags": []
   },
   "source": [
    "#### Let's visualize the import features which are taken into consideration by decision trees."
   ]
  },
  {
   "cell_type": "code",
   "execution_count": null,
   "id": "relevant-arnold",
   "metadata": {
    "execution": {
     "iopub.execute_input": "2021-05-27T17:36:15.755230Z",
     "iopub.status.busy": "2021-05-27T17:36:15.754169Z",
     "iopub.status.idle": "2021-05-27T17:36:15.958211Z",
     "shell.execute_reply": "2021-05-27T17:36:15.958764Z",
     "shell.execute_reply.started": "2021-05-27T17:19:54.384732Z"
    },
    "papermill": {
     "duration": 0.318416,
     "end_time": "2021-05-27T17:36:15.958951",
     "exception": false,
     "start_time": "2021-05-27T17:36:15.640535",
     "status": "completed"
    },
    "tags": []
   },
   "outputs": [],
   "source": [
    "plt.figure(figsize=(10,4), dpi=80)\n",
    "c_features = len(X_train.columns)\n",
    "plt.barh(range(c_features), clf.feature_importances_)\n",
    "plt.xlabel(\"Feature importance\")\n",
    "plt.ylabel(\"Feature name\")\n",
    "plt.yticks(np.arange(c_features), X_train.columns)\n",
    "plt.show()"
   ]
  },
  {
   "cell_type": "markdown",
   "id": "statistical-angel",
   "metadata": {
    "papermill": {
     "duration": 0.090224,
     "end_time": "2021-05-27T17:36:16.140266",
     "exception": false,
     "start_time": "2021-05-27T17:36:16.050042",
     "status": "completed"
    },
    "tags": []
   },
   "source": [
    "#### Classification using Random Forest."
   ]
  },
  {
   "cell_type": "code",
   "execution_count": null,
   "id": "moving-wallet",
   "metadata": {
    "execution": {
     "iopub.execute_input": "2021-05-27T17:36:16.325604Z",
     "iopub.status.busy": "2021-05-27T17:36:16.324595Z",
     "iopub.status.idle": "2021-05-27T17:36:16.700620Z",
     "shell.execute_reply": "2021-05-27T17:36:16.699802Z",
     "shell.execute_reply.started": "2021-05-27T17:19:54.633347Z"
    },
    "papermill": {
     "duration": 0.469748,
     "end_time": "2021-05-27T17:36:16.700817",
     "exception": false,
     "start_time": "2021-05-27T17:36:16.231069",
     "status": "completed"
    },
    "tags": []
   },
   "outputs": [],
   "source": [
    "'''\n",
    "max depth and n_estimator are important to fine tune otherwise trees will be densely graphed which will be a classic case of overfitting. max_depth=4 and n_estimators=10 gives pretty much satisfying results by making sure model is able to generalize well.\n",
    "'''\n",
    "\n",
    "from sklearn.ensemble import RandomForestClassifier\n",
    "clf = RandomForestClassifier(max_depth=4,n_estimators=100,random_state=42).fit(X_train, y_train)\n",
    "\n",
    "print('RF Accuracy on training set: {:.2f}'.format(clf.score(X_train, y_train)))\n",
    "print('RF Accuracy on test set: {:.2f}'.format(clf.score(X_test, y_test)))"
   ]
  },
  {
   "cell_type": "markdown",
   "id": "opening-theater",
   "metadata": {
    "execution": {
     "iopub.execute_input": "2021-05-27T09:17:06.540362Z",
     "iopub.status.busy": "2021-05-27T09:17:06.539847Z",
     "iopub.status.idle": "2021-05-27T09:17:06.545961Z",
     "shell.execute_reply": "2021-05-27T09:17:06.544626Z",
     "shell.execute_reply.started": "2021-05-27T09:17:06.540325Z"
    },
    "papermill": {
     "duration": 0.091296,
     "end_time": "2021-05-27T17:36:16.883700",
     "exception": false,
     "start_time": "2021-05-27T17:36:16.792404",
     "status": "completed"
    },
    "tags": []
   },
   "source": [
    "#### Classification report\n",
    "\n",
    "**Let's use yellowbrick for classification report as they are great for visualizing in a tabular format**"
   ]
  },
  {
   "cell_type": "code",
   "execution_count": null,
   "id": "billion-vatican",
   "metadata": {
    "execution": {
     "iopub.execute_input": "2021-05-27T17:36:17.073146Z",
     "iopub.status.busy": "2021-05-27T17:36:17.072318Z",
     "iopub.status.idle": "2021-05-27T17:36:18.013538Z",
     "shell.execute_reply": "2021-05-27T17:36:18.014028Z",
     "shell.execute_reply.started": "2021-05-27T17:19:55.01038Z"
    },
    "papermill": {
     "duration": 1.039251,
     "end_time": "2021-05-27T17:36:18.014202",
     "exception": false,
     "start_time": "2021-05-27T17:36:16.974951",
     "status": "completed"
    },
    "tags": []
   },
   "outputs": [],
   "source": [
    "from yellowbrick.classifier import ClassificationReport\n",
    "classes=list(targets.values())\n",
    "visualizer = ClassificationReport(clf, classes=classes, support=True,cmap=\"Blues\")\n",
    "\n",
    "visualizer.fit(X_train, y_train)  # Fit the visualizer and the model\n",
    "visualizer.score(X_test, y_test)  # Evaluate the model on the test data\n",
    "visualizer.show()"
   ]
  },
  {
   "cell_type": "markdown",
   "id": "instant-briefs",
   "metadata": {
    "execution": {
     "iopub.execute_input": "2021-05-26T16:46:54.307053Z",
     "iopub.status.busy": "2021-05-26T16:46:54.306782Z",
     "iopub.status.idle": "2021-05-26T16:46:54.313148Z",
     "shell.execute_reply": "2021-05-26T16:46:54.311805Z",
     "shell.execute_reply.started": "2021-05-26T16:46:54.30703Z"
    },
    "papermill": {
     "duration": 0.096241,
     "end_time": "2021-05-27T17:36:18.206466",
     "exception": false,
     "start_time": "2021-05-27T17:36:18.110225",
     "status": "completed"
    },
    "tags": []
   },
   "source": [
    "### Classification using Gradient Boosting\n"
   ]
  },
  {
   "cell_type": "code",
   "execution_count": null,
   "id": "forbidden-following",
   "metadata": {
    "execution": {
     "iopub.execute_input": "2021-05-27T17:36:18.402764Z",
     "iopub.status.busy": "2021-05-27T17:36:18.401802Z",
     "iopub.status.idle": "2021-05-27T17:36:28.354337Z",
     "shell.execute_reply": "2021-05-27T17:36:28.353307Z",
     "shell.execute_reply.started": "2021-05-27T17:19:56.081214Z"
    },
    "papermill": {
     "duration": 10.054128,
     "end_time": "2021-05-27T17:36:28.354618",
     "exception": false,
     "start_time": "2021-05-27T17:36:18.300490",
     "status": "completed"
    },
    "tags": []
   },
   "outputs": [],
   "source": [
    "from sklearn.ensemble import GradientBoostingClassifier\n",
    "grad = GradientBoostingClassifier().fit(X_train, y_train)\n",
    "print('Gradient Boosting accuracy : {}'.format(grad.score(X_test,y_test)))"
   ]
  },
  {
   "cell_type": "markdown",
   "id": "eastern-motor",
   "metadata": {
    "execution": {
     "iopub.execute_input": "2021-05-27T17:17:53.778388Z",
     "iopub.status.busy": "2021-05-27T17:17:53.77786Z",
     "iopub.status.idle": "2021-05-27T17:17:53.787399Z",
     "shell.execute_reply": "2021-05-27T17:17:53.785161Z",
     "shell.execute_reply.started": "2021-05-27T17:17:53.778344Z"
    },
    "papermill": {
     "duration": 0.095234,
     "end_time": "2021-05-27T17:36:28.545003",
     "exception": false,
     "start_time": "2021-05-27T17:36:28.449769",
     "status": "completed"
    },
    "tags": []
   },
   "source": [
    "\n",
    "<h2><center> If you learnt something new or liked this kernel, please consider upvoting. Happy Kaggling.</center></h2>"
   ]
  }
 ],
 "metadata": {
  "kernelspec": {
   "display_name": "Python 3",
   "language": "python",
   "name": "python3"
  },
  "language_info": {
   "codemirror_mode": {
    "name": "ipython",
    "version": 3
   },
   "file_extension": ".py",
   "mimetype": "text/x-python",
   "name": "python",
   "nbconvert_exporter": "python",
   "pygments_lexer": "ipython3",
   "version": "3.9.4"
  },
  "papermill": {
   "default_parameters": {},
   "duration": 85.826456,
   "end_time": "2021-05-27T17:36:30.146383",
   "environment_variables": {},
   "exception": null,
   "input_path": "__notebook__.ipynb",
   "output_path": "__notebook__.ipynb",
   "parameters": {},
   "start_time": "2021-05-27T17:35:04.319927",
   "version": "2.3.3"
  }
 },
 "nbformat": 4,
 "nbformat_minor": 5
}
